{
  "cells": [
    {
      "cell_type": "markdown",
      "metadata": {
        "id": "cRAJnaIxpQKr"
      },
      "source": [
        "# IMPORTING Libraries"
      ]
    },
    {
      "cell_type": "code",
      "execution_count": 1,
      "metadata": {
        "id": "82a3qi7i-DaY"
      },
      "outputs": [],
      "source": [
        "%%capture\n",
        "import sys\n",
        "\n",
        "!pip install category_encoders==2.*\n",
        "!pip install pdpbox\n",
        "\n"
      ]
    },
    {
      "cell_type": "code",
      "execution_count": 2,
      "metadata": {
        "colab": {
          "base_uri": "https://localhost:8080/"
        },
        "id": "HVxH9I3T-KWt",
        "outputId": "7366f919-0b83-4b88-8bd6-9fa0ec2bf21d"
      },
      "outputs": [
        {
          "name": "stderr",
          "output_type": "stream",
          "text": [
            "/usr/local/lib/python3.7/dist-packages/statsmodels/tools/_testing.py:19: FutureWarning: pandas.util.testing is deprecated. Use the functions in the public API at pandas.testing instead.\n",
            "  import pandas.util.testing as tm\n"
          ]
        }
      ],
      "source": [
        "import pandas as pd\n",
        "from sklearn.pipeline import make_pipeline\n",
        "from sklearn.impute import SimpleImputer\n",
        "from sklearn.linear_model import LogisticRegression,Ridge\n",
        "from sklearn.model_selection import train_test_split, RandomizedSearchCV\n",
        "from sklearn.preprocessing import StandardScaler\n",
        "from sklearn.metrics import classification_report, roc_curve, plot_confusion_matrix, plot_roc_curve,accuracy_score\n",
        "import matplotlib.pyplot as plt\n",
        "from sklearn.ensemble import RandomForestClassifier, AdaBoostClassifier\n",
        "from category_encoders import OneHotEncoder, OrdinalEncoder\n",
        "from sklearn.tree import DecisionTreeClassifier, plot_tree\n",
        "import numpy as np\n",
        "import seaborn as sns\n",
        "from sklearn.ensemble import GradientBoostingClassifier\n",
        "from xgboost import XGBClassifier\n",
        "from pdpbox.pdp import pdp_isolate, pdp_plot, pdp_interact, pdp_interact_plot\n"
      ]
    },
    {
      "cell_type": "markdown",
      "metadata": {
        "id": "ZSI0CUQ7pdFW"
      },
      "source": [
        "# Creating the Wrangle Function"
      ]
    },
    {
      "cell_type": "code",
      "execution_count": 3,
      "metadata": {
        "id": "3ZVIFHfAqUES"
      },
      "outputs": [],
      "source": [
        "# Data cleaning and Wrangle Function\n",
        "\n",
        "# Train Data Set\n",
        "def trainwrangle(filepath):\n",
        "    # Read in the CSV file\n",
        "  df = pd.read_csv(filepath, index_col='Loan_ID')\n",
        "\n",
        "  # Turning my target into 1 and 0s\n",
        "  # Dropping NaN Values from my Target column\n",
        "  df['Loan_Status'] = (df['Loan_Status'] == 'Y').astype(int)\n",
        "  df.dropna(subset=['Loan_Status'], inplace = True)\n",
        "\n",
        "  # Label Encoding Columns so they are represent by numbers\n",
        "  df['Gender'] = df['Gender'].map({'Male':1, 'Female':0})\n",
        "  df['Married'] = df['Married'].map({'Yes':1, 'No':0})\n",
        "  df['Dependents'] = df['Dependents'].map({'0':0, '1':1, '2':2, '3+':3})\n",
        "  df['Education'] = df['Education'].map({'Graduate':1, 'Not Graduate':0})\n",
        "  df['Self_Employed'] = df['Self_Employed'].map({'Yes':1, 'No':0})\n",
        "  df['Property_Area'] = df['Property_Area'].map({'Rural':0, 'Semiurban':1, 'Urban':2})\n",
        "\n",
        "\n",
        "  # Filling NaN values\n",
        "  df['Gender'].fillna(df['Gender'].median(),inplace=True)\n",
        "  df['Married'].fillna(df['Married'].median(),inplace=True)\n",
        "  df['Dependents'].fillna(df['Dependents'].median(),inplace=True)\n",
        "  df['Self_Employed'].fillna(df['Self_Employed'].median(),inplace=True)\n",
        "  df['LoanAmount'].fillna(df['LoanAmount'].mean(),inplace=True)\n",
        "  df['Loan_Amount_Term'].fillna(df['Loan_Amount_Term'].median(),inplace=True)\n",
        "  df['Credit_History'].fillna(df['Credit_History'].median(),inplace=True)\n",
        "\n",
        "  df.drop(columns=['LoanAmount','Loan_Amount_Term','Property_Area'], inplace=True)\n",
        "\n",
        "\n",
        "  return df \n",
        "\n",
        "\n",
        "def testwrangle(filepath):\n",
        "  # Read in the CSV file\n",
        "  df = pd.read_csv(filepath, index_col='Loan_ID')\n",
        "  \n",
        "  # Label Encoding Columns so they are represent by numbers\n",
        "  df['Gender'] = df['Gender'].map({'Male':1, 'Female':0})\n",
        "  df['Married'] = df['Married'].map({'Yes':1, 'No':0})\n",
        "  df['Dependents'] = df['Dependents'].map({'0':0, '1':1, '2':2, '3+':3})\n",
        "  df['Education'] = df['Education'].map({'Graduate':1, 'Not Graduate':0})\n",
        "  df['Self_Employed'] = df['Self_Employed'].map({'Yes':1, 'No':0})\n",
        "  df['Property_Area'] = df['Property_Area'].map({'Rural':0, 'Semiurban':1, 'Urban':2})\n",
        "\n",
        "\n",
        "  # Filling NaN values\n",
        "  df['Gender'].fillna(df['Gender'].median(),inplace=True)\n",
        "  df['Married'].fillna(df['Married'].median(),inplace=True)\n",
        "  df['Dependents'].fillna(df['Dependents'].median(),inplace=True)\n",
        "  df['Self_Employed'].fillna(df['Self_Employed'].median(),inplace=True)\n",
        "  df['LoanAmount'].fillna(df['LoanAmount'].mean(),inplace=True)\n",
        "  df['Loan_Amount_Term'].fillna(df['Loan_Amount_Term'].median(),inplace=True)\n",
        "  df['Credit_History'].fillna(df['Credit_History'].median(),inplace=True)\n",
        "\n",
        "  df.drop(columns=['LoanAmount','Loan_Amount_Term','Property_Area'], inplace=True)\n",
        "\n",
        "  return df\n",
        "\n",
        "df = trainwrangle('loan-train.csv')\n",
        "X_test = testwrangle('loan-test.csv')"
      ]
    },
    {
      "cell_type": "markdown",
      "metadata": {
        "id": "9kLTA-SNbydA"
      },
      "source": [
        "# Exploring my data"
      ]
    },
    {
      "cell_type": "code",
      "execution_count": 4,
      "metadata": {
        "colab": {
          "base_uri": "https://localhost:8080/",
          "height": 440
        },
        "id": "hYAhFCIoYBgj",
        "outputId": "cb41a87b-1ef7-4c38-827a-dd19f3a1ad2b"
      },
      "outputs": [
        {
          "data": {
            "text/html": [
              "<div>\n",
              "<style scoped>\n",
              "    .dataframe tbody tr th:only-of-type {\n",
              "        vertical-align: middle;\n",
              "    }\n",
              "\n",
              "    .dataframe tbody tr th {\n",
              "        vertical-align: top;\n",
              "    }\n",
              "\n",
              "    .dataframe thead th {\n",
              "        text-align: right;\n",
              "    }\n",
              "</style>\n",
              "<table border=\"1\" class=\"dataframe\">\n",
              "  <thead>\n",
              "    <tr style=\"text-align: right;\">\n",
              "      <th></th>\n",
              "      <th>Gender</th>\n",
              "      <th>Married</th>\n",
              "      <th>Dependents</th>\n",
              "      <th>Education</th>\n",
              "      <th>Self_Employed</th>\n",
              "      <th>ApplicantIncome</th>\n",
              "      <th>CoapplicantIncome</th>\n",
              "      <th>Credit_History</th>\n",
              "      <th>Loan_Status</th>\n",
              "    </tr>\n",
              "    <tr>\n",
              "      <th>Loan_ID</th>\n",
              "      <th></th>\n",
              "      <th></th>\n",
              "      <th></th>\n",
              "      <th></th>\n",
              "      <th></th>\n",
              "      <th></th>\n",
              "      <th></th>\n",
              "      <th></th>\n",
              "      <th></th>\n",
              "    </tr>\n",
              "  </thead>\n",
              "  <tbody>\n",
              "    <tr>\n",
              "      <th>LP001002</th>\n",
              "      <td>1.0</td>\n",
              "      <td>0.0</td>\n",
              "      <td>0.0</td>\n",
              "      <td>1</td>\n",
              "      <td>0.0</td>\n",
              "      <td>5849</td>\n",
              "      <td>0.0</td>\n",
              "      <td>1.0</td>\n",
              "      <td>1</td>\n",
              "    </tr>\n",
              "    <tr>\n",
              "      <th>LP001003</th>\n",
              "      <td>1.0</td>\n",
              "      <td>1.0</td>\n",
              "      <td>1.0</td>\n",
              "      <td>1</td>\n",
              "      <td>0.0</td>\n",
              "      <td>4583</td>\n",
              "      <td>1508.0</td>\n",
              "      <td>1.0</td>\n",
              "      <td>0</td>\n",
              "    </tr>\n",
              "    <tr>\n",
              "      <th>LP001005</th>\n",
              "      <td>1.0</td>\n",
              "      <td>1.0</td>\n",
              "      <td>0.0</td>\n",
              "      <td>1</td>\n",
              "      <td>1.0</td>\n",
              "      <td>3000</td>\n",
              "      <td>0.0</td>\n",
              "      <td>1.0</td>\n",
              "      <td>1</td>\n",
              "    </tr>\n",
              "    <tr>\n",
              "      <th>LP001006</th>\n",
              "      <td>1.0</td>\n",
              "      <td>1.0</td>\n",
              "      <td>0.0</td>\n",
              "      <td>0</td>\n",
              "      <td>0.0</td>\n",
              "      <td>2583</td>\n",
              "      <td>2358.0</td>\n",
              "      <td>1.0</td>\n",
              "      <td>1</td>\n",
              "    </tr>\n",
              "    <tr>\n",
              "      <th>LP001008</th>\n",
              "      <td>1.0</td>\n",
              "      <td>0.0</td>\n",
              "      <td>0.0</td>\n",
              "      <td>1</td>\n",
              "      <td>0.0</td>\n",
              "      <td>6000</td>\n",
              "      <td>0.0</td>\n",
              "      <td>1.0</td>\n",
              "      <td>1</td>\n",
              "    </tr>\n",
              "    <tr>\n",
              "      <th>...</th>\n",
              "      <td>...</td>\n",
              "      <td>...</td>\n",
              "      <td>...</td>\n",
              "      <td>...</td>\n",
              "      <td>...</td>\n",
              "      <td>...</td>\n",
              "      <td>...</td>\n",
              "      <td>...</td>\n",
              "      <td>...</td>\n",
              "    </tr>\n",
              "    <tr>\n",
              "      <th>LP001326</th>\n",
              "      <td>1.0</td>\n",
              "      <td>0.0</td>\n",
              "      <td>0.0</td>\n",
              "      <td>1</td>\n",
              "      <td>0.0</td>\n",
              "      <td>6782</td>\n",
              "      <td>0.0</td>\n",
              "      <td>1.0</td>\n",
              "      <td>0</td>\n",
              "    </tr>\n",
              "    <tr>\n",
              "      <th>LP001327</th>\n",
              "      <td>0.0</td>\n",
              "      <td>1.0</td>\n",
              "      <td>0.0</td>\n",
              "      <td>1</td>\n",
              "      <td>0.0</td>\n",
              "      <td>2484</td>\n",
              "      <td>2302.0</td>\n",
              "      <td>1.0</td>\n",
              "      <td>1</td>\n",
              "    </tr>\n",
              "    <tr>\n",
              "      <th>LP001333</th>\n",
              "      <td>1.0</td>\n",
              "      <td>1.0</td>\n",
              "      <td>0.0</td>\n",
              "      <td>1</td>\n",
              "      <td>0.0</td>\n",
              "      <td>1977</td>\n",
              "      <td>997.0</td>\n",
              "      <td>1.0</td>\n",
              "      <td>1</td>\n",
              "    </tr>\n",
              "    <tr>\n",
              "      <th>LP001334</th>\n",
              "      <td>1.0</td>\n",
              "      <td>1.0</td>\n",
              "      <td>0.0</td>\n",
              "      <td>0</td>\n",
              "      <td>0.0</td>\n",
              "      <td>4188</td>\n",
              "      <td>0.0</td>\n",
              "      <td>1.0</td>\n",
              "      <td>1</td>\n",
              "    </tr>\n",
              "    <tr>\n",
              "      <th>LP001343</th>\n",
              "      <td>1.0</td>\n",
              "      <td>1.0</td>\n",
              "      <td>0.0</td>\n",
              "      <td>1</td>\n",
              "      <td>0.0</td>\n",
              "      <td>1759</td>\n",
              "      <td>3541.0</td>\n",
              "      <td>1.0</td>\n",
              "      <td>1</td>\n",
              "    </tr>\n",
              "  </tbody>\n",
              "</table>\n",
              "<p>100 rows × 9 columns</p>\n",
              "</div>"
            ],
            "text/plain": [
              "          Gender  Married  ...  Credit_History  Loan_Status\n",
              "Loan_ID                    ...                             \n",
              "LP001002     1.0      0.0  ...             1.0            1\n",
              "LP001003     1.0      1.0  ...             1.0            0\n",
              "LP001005     1.0      1.0  ...             1.0            1\n",
              "LP001006     1.0      1.0  ...             1.0            1\n",
              "LP001008     1.0      0.0  ...             1.0            1\n",
              "...          ...      ...  ...             ...          ...\n",
              "LP001326     1.0      0.0  ...             1.0            0\n",
              "LP001327     0.0      1.0  ...             1.0            1\n",
              "LP001333     1.0      1.0  ...             1.0            1\n",
              "LP001334     1.0      1.0  ...             1.0            1\n",
              "LP001343     1.0      1.0  ...             1.0            1\n",
              "\n",
              "[100 rows x 9 columns]"
            ]
          },
          "execution_count": 4,
          "metadata": {},
          "output_type": "execute_result"
        }
      ],
      "source": [
        "df.head(100)"
      ]
    },
    {
      "cell_type": "code",
      "execution_count": 5,
      "metadata": {
        "colab": {
          "base_uri": "https://localhost:8080/"
        },
        "id": "mlKxragsbyBS",
        "outputId": "e701d9e8-1e32-43bb-c340-8a688598ea25"
      },
      "outputs": [
        {
          "data": {
            "text/plain": [
              "(614, 9)"
            ]
          },
          "execution_count": 5,
          "metadata": {},
          "output_type": "execute_result"
        }
      ],
      "source": [
        "# Checking the Shape of the Dataset\n",
        "df.shape"
      ]
    },
    {
      "cell_type": "code",
      "execution_count": 6,
      "metadata": {
        "colab": {
          "base_uri": "https://localhost:8080/",
          "height": 290
        },
        "id": "H8sbyOHecIXU",
        "outputId": "22cfcc97-7373-43dd-c303-d0a24acd6acb"
      },
      "outputs": [
        {
          "data": {
            "text/html": [
              "<div>\n",
              "<style scoped>\n",
              "    .dataframe tbody tr th:only-of-type {\n",
              "        vertical-align: middle;\n",
              "    }\n",
              "\n",
              "    .dataframe tbody tr th {\n",
              "        vertical-align: top;\n",
              "    }\n",
              "\n",
              "    .dataframe thead th {\n",
              "        text-align: right;\n",
              "    }\n",
              "</style>\n",
              "<table border=\"1\" class=\"dataframe\">\n",
              "  <thead>\n",
              "    <tr style=\"text-align: right;\">\n",
              "      <th></th>\n",
              "      <th>Gender</th>\n",
              "      <th>Married</th>\n",
              "      <th>Dependents</th>\n",
              "      <th>Education</th>\n",
              "      <th>Self_Employed</th>\n",
              "      <th>ApplicantIncome</th>\n",
              "      <th>CoapplicantIncome</th>\n",
              "      <th>Credit_History</th>\n",
              "      <th>Loan_Status</th>\n",
              "    </tr>\n",
              "  </thead>\n",
              "  <tbody>\n",
              "    <tr>\n",
              "      <th>count</th>\n",
              "      <td>614.000000</td>\n",
              "      <td>614.000000</td>\n",
              "      <td>614.000000</td>\n",
              "      <td>614.000000</td>\n",
              "      <td>614.000000</td>\n",
              "      <td>614.000000</td>\n",
              "      <td>614.000000</td>\n",
              "      <td>614.000000</td>\n",
              "      <td>614.000000</td>\n",
              "    </tr>\n",
              "    <tr>\n",
              "      <th>mean</th>\n",
              "      <td>0.817590</td>\n",
              "      <td>0.653094</td>\n",
              "      <td>0.744300</td>\n",
              "      <td>0.781759</td>\n",
              "      <td>0.133550</td>\n",
              "      <td>5403.459283</td>\n",
              "      <td>1621.245798</td>\n",
              "      <td>0.855049</td>\n",
              "      <td>0.687296</td>\n",
              "    </tr>\n",
              "    <tr>\n",
              "      <th>std</th>\n",
              "      <td>0.386497</td>\n",
              "      <td>0.476373</td>\n",
              "      <td>1.009623</td>\n",
              "      <td>0.413389</td>\n",
              "      <td>0.340446</td>\n",
              "      <td>6109.041673</td>\n",
              "      <td>2926.248369</td>\n",
              "      <td>0.352339</td>\n",
              "      <td>0.463973</td>\n",
              "    </tr>\n",
              "    <tr>\n",
              "      <th>min</th>\n",
              "      <td>0.000000</td>\n",
              "      <td>0.000000</td>\n",
              "      <td>0.000000</td>\n",
              "      <td>0.000000</td>\n",
              "      <td>0.000000</td>\n",
              "      <td>150.000000</td>\n",
              "      <td>0.000000</td>\n",
              "      <td>0.000000</td>\n",
              "      <td>0.000000</td>\n",
              "    </tr>\n",
              "    <tr>\n",
              "      <th>25%</th>\n",
              "      <td>1.000000</td>\n",
              "      <td>0.000000</td>\n",
              "      <td>0.000000</td>\n",
              "      <td>1.000000</td>\n",
              "      <td>0.000000</td>\n",
              "      <td>2877.500000</td>\n",
              "      <td>0.000000</td>\n",
              "      <td>1.000000</td>\n",
              "      <td>0.000000</td>\n",
              "    </tr>\n",
              "    <tr>\n",
              "      <th>50%</th>\n",
              "      <td>1.000000</td>\n",
              "      <td>1.000000</td>\n",
              "      <td>0.000000</td>\n",
              "      <td>1.000000</td>\n",
              "      <td>0.000000</td>\n",
              "      <td>3812.500000</td>\n",
              "      <td>1188.500000</td>\n",
              "      <td>1.000000</td>\n",
              "      <td>1.000000</td>\n",
              "    </tr>\n",
              "    <tr>\n",
              "      <th>75%</th>\n",
              "      <td>1.000000</td>\n",
              "      <td>1.000000</td>\n",
              "      <td>1.000000</td>\n",
              "      <td>1.000000</td>\n",
              "      <td>0.000000</td>\n",
              "      <td>5795.000000</td>\n",
              "      <td>2297.250000</td>\n",
              "      <td>1.000000</td>\n",
              "      <td>1.000000</td>\n",
              "    </tr>\n",
              "    <tr>\n",
              "      <th>max</th>\n",
              "      <td>1.000000</td>\n",
              "      <td>1.000000</td>\n",
              "      <td>3.000000</td>\n",
              "      <td>1.000000</td>\n",
              "      <td>1.000000</td>\n",
              "      <td>81000.000000</td>\n",
              "      <td>41667.000000</td>\n",
              "      <td>1.000000</td>\n",
              "      <td>1.000000</td>\n",
              "    </tr>\n",
              "  </tbody>\n",
              "</table>\n",
              "</div>"
            ],
            "text/plain": [
              "           Gender     Married  ...  Credit_History  Loan_Status\n",
              "count  614.000000  614.000000  ...      614.000000   614.000000\n",
              "mean     0.817590    0.653094  ...        0.855049     0.687296\n",
              "std      0.386497    0.476373  ...        0.352339     0.463973\n",
              "min      0.000000    0.000000  ...        0.000000     0.000000\n",
              "25%      1.000000    0.000000  ...        1.000000     0.000000\n",
              "50%      1.000000    1.000000  ...        1.000000     1.000000\n",
              "75%      1.000000    1.000000  ...        1.000000     1.000000\n",
              "max      1.000000    1.000000  ...        1.000000     1.000000\n",
              "\n",
              "[8 rows x 9 columns]"
            ]
          },
          "execution_count": 6,
          "metadata": {},
          "output_type": "execute_result"
        }
      ],
      "source": [
        "# Checking out Info on the Dataset\n",
        "df.describe()"
      ]
    },
    {
      "cell_type": "code",
      "execution_count": 7,
      "metadata": {
        "colab": {
          "base_uri": "https://localhost:8080/"
        },
        "id": "-wRKUltYOJGJ",
        "outputId": "862cb835-7eec-4ea7-d0b3-f2e7fb2530cf"
      },
      "outputs": [
        {
          "data": {
            "text/plain": [
              "Gender               0\n",
              "Married              0\n",
              "Dependents           0\n",
              "Education            0\n",
              "Self_Employed        0\n",
              "ApplicantIncome      0\n",
              "CoapplicantIncome    0\n",
              "Credit_History       0\n",
              "Loan_Status          0\n",
              "dtype: int64"
            ]
          },
          "execution_count": 7,
          "metadata": {},
          "output_type": "execute_result"
        }
      ],
      "source": [
        "# Checking total Null Values\n",
        "df.isnull().sum()"
      ]
    },
    {
      "cell_type": "code",
      "execution_count": 8,
      "metadata": {
        "colab": {
          "base_uri": "https://localhost:8080/",
          "height": 598
        },
        "id": "UB_m_eTxSDDQ",
        "outputId": "729af8f3-2a1d-4585-8f84-5988fb7f83cc"
      },
      "outputs": [
        {
          "data": {
            "text/plain": [
              "<matplotlib.axes._subplots.AxesSubplot at 0x7f4c64402310>"
            ]
          },
          "execution_count": 8,
          "metadata": {},
          "output_type": "execute_result"
        },
        {
          "data": {
            "image/png": "[encoded data removed]",
            "text/plain": [
              "<Figure size 648x648 with 2 Axes>"
            ]
          },
          "metadata": {
            "needs_background": "light"
          },
          "output_type": "display_data"
        }
      ],
      "source": [
        "# Plotting Feature Correlation\n",
        "corrmat=df.corr()\n",
        "f,ax=plt.subplots(figsize=(9,9))\n",
        "sns.heatmap(corrmat,vmax=.8,square=True)"
      ]
    },
    {
      "cell_type": "markdown",
      "metadata": {
        "id": "SgpBID-2px0l"
      },
      "source": [
        "# Splitting the data"
      ]
    },
    {
      "cell_type": "code",
      "execution_count": 9,
      "metadata": {
        "id": "CbteEOc3_Sqj"
      },
      "outputs": [],
      "source": [
        "# Splitting into my X Matrix and y vector\n",
        "target = 'Loan_Status'\n",
        "y = df[target]\n",
        "X = df.drop(target, axis=1)\n"
      ]
    },
    {
      "cell_type": "code",
      "execution_count": 10,
      "metadata": {
        "id": "nKIX5ErgC_jq"
      },
      "outputs": [],
      "source": [
        "# Using a random train test split\n",
        "X_train, X_val, y_train, y_val = train_test_split(X, y , test_size=0.2, random_state = 1)"
      ]
    },
    {
      "cell_type": "code",
      "execution_count": 11,
      "metadata": {
        "colab": {
          "base_uri": "https://localhost:8080/"
        },
        "id": "34X_y1INLJtC",
        "outputId": "8ae71f63-206c-442e-d2e7-7dc04e130480"
      },
      "outputs": [
        {
          "name": "stdout",
          "output_type": "stream",
          "text": [
            "Baseline accuracy: 0.6883910386965377\n"
          ]
        }
      ],
      "source": [
        "# Baseline Accuracy\n",
        "print('Baseline accuracy:', y_train.value_counts(normalize=True).max())"
      ]
    },
    {
      "cell_type": "markdown",
      "metadata": {
        "id": "SaFE7mdbp0cf"
      },
      "source": [
        "#Building the Models"
      ]
    },
    {
      "cell_type": "code",
      "execution_count": 12,
      "metadata": {
        "colab": {
          "base_uri": "https://localhost:8080/",
          "height": 457
        },
        "id": "aNCLXxflNBmI",
        "outputId": "e3654bc1-d409-465c-daee-e9b9ecca7d00"
      },
      "outputs": [
        {
          "name": "stdout",
          "output_type": "stream",
          "text": [
            "Training Accuracy (LOGR): 0.814663951120163\n",
            "Validation Accuracy (LOGR): 0.7967479674796748\n",
            "              precision    recall  f1-score   support\n",
            "\n",
            "           0       0.89      0.41      0.56        39\n",
            "           1       0.78      0.98      0.87        84\n",
            "\n",
            "    accuracy                           0.80       123\n",
            "   macro avg       0.83      0.69      0.71       123\n",
            "weighted avg       0.82      0.80      0.77       123\n",
            "\n"
          ]
        },
        {
          "data": {
            "image/png": "[encoded data removed]",
            "text/plain": [
              "<Figure size 432x288 with 2 Axes>"
            ]
          },
          "metadata": {
            "needs_background": "light"
          },
          "output_type": "display_data"
        }
      ],
      "source": [
        "# Model 1: Logistic Regression\n",
        "model_lr = make_pipeline(\n",
        "    SimpleImputer(),\n",
        "    StandardScaler(),\n",
        "    LogisticRegression()\n",
        ")\n",
        "\n",
        "model_lr.fit(X_train,y_train);\n",
        "\n",
        "# Print Accuracy Scores for Train and Val\n",
        "print('Training Accuracy (LOGR):', model_lr.score(X_train, y_train))\n",
        "print('Validation Accuracy (LOGR):', model_lr.score(X_val, y_val))\n",
        "\n",
        "# Print Class report and Plot confusion Matrix\n",
        "print(classification_report(y_val, model_lr.predict(X_val)))\n",
        "plot_confusion_matrix(model_lr, X_val, y_val);"
      ]
    },
    {
      "cell_type": "code",
      "execution_count": 13,
      "metadata": {
        "colab": {
          "base_uri": "https://localhost:8080/",
          "height": 457
        },
        "id": "MZBmEy4Hjjdg",
        "outputId": "20c53bf3-8e9b-46aa-b399-fccd1e630ba1"
      },
      "outputs": [
        {
          "name": "stdout",
          "output_type": "stream",
          "text": [
            "Training Accuracy (DT): 0.8167006109979633\n",
            "Validation Accuracy (DT): 0.7967479674796748\n",
            "              precision    recall  f1-score   support\n",
            "\n",
            "           0       0.89      0.41      0.56        39\n",
            "           1       0.78      0.98      0.87        84\n",
            "\n",
            "    accuracy                           0.80       123\n",
            "   macro avg       0.83      0.69      0.71       123\n",
            "weighted avg       0.82      0.80      0.77       123\n",
            "\n"
          ]
        },
        {
          "data": {
            "image/png": "[encoded data removed]",
            "text/plain": [
              "<Figure size 432x288 with 2 Axes>"
            ]
          },
          "metadata": {
            "needs_background": "light"
          },
          "output_type": "display_data"
        }
      ],
      "source": [
        "# Model 2: Decision Tree\n",
        "model_dt = make_pipeline(\n",
        "    SimpleImputer(strategy='median'),\n",
        "    DecisionTreeClassifier(random_state=1, max_depth=2)\n",
        ")\n",
        "\n",
        "model_dt.fit(X_train, y_train);\n",
        "\n",
        "# Print Accuracy Scores for Train and Val\n",
        "print('Training Accuracy (DT):', model_dt.score(X_train, y_train))\n",
        "print('Validation Accuracy (DT):', model_dt.score(X_val, y_val))\n",
        "\n",
        "# Print Class report and Plot confusion Matrix\n",
        "print(classification_report(y_val, model_dt.predict(X_val)))\n",
        "plot_confusion_matrix(model_dt, X_val, y_val);"
      ]
    },
    {
      "cell_type": "code",
      "execution_count": 14,
      "metadata": {
        "colab": {
          "base_uri": "https://localhost:8080/",
          "height": 457
        },
        "id": "OBeQzLA-NT9Q",
        "outputId": "6450ef81-28ec-458b-bad3-3a56d084a93f"
      },
      "outputs": [
        {
          "name": "stdout",
          "output_type": "stream",
          "text": [
            "Training Accuracy (RF): 0.8105906313645621\n",
            "Validation Accuracy (RF): 0.8048780487804879\n",
            "              precision    recall  f1-score   support\n",
            "\n",
            "           0       0.89      0.41      0.56        39\n",
            "           1       0.78      0.98      0.87        84\n",
            "\n",
            "    accuracy                           0.80       123\n",
            "   macro avg       0.83      0.69      0.71       123\n",
            "weighted avg       0.82      0.80      0.77       123\n",
            "\n"
          ]
        },
        {
          "data": {
            "image/png": "[encoded data removed]",
            "text/plain": [
              "<Figure size 432x288 with 2 Axes>"
            ]
          },
          "metadata": {
            "needs_background": "light"
          },
          "output_type": "display_data"
        }
      ],
      "source": [
        "# Model 3: Random Forest\n",
        "model_rf = make_pipeline(\n",
        "    RandomForestClassifier(max_depth=10,n_estimators=75, random_state=1, n_jobs=-1,max_features=5,max_leaf_nodes=113,min_samples_leaf=25),                     \n",
        "\n",
        "\n",
        ")\n",
        "model_rf.fit(X_train,y_train);\n",
        "\n",
        "\n",
        "# Print Accuracy Scores for Train and Val\n",
        "print('Training Accuracy (RF):', model_rf.score(X_train, y_train))\n",
        "print('Validation Accuracy (RF):', model_rf.score(X_val, y_val))\n",
        "\n",
        "# Print Class report and Plot confusion Matrix\n",
        "print(classification_report(y_val, model_lr.predict(X_val)))\n",
        "plot_confusion_matrix(model_rf, X_val, y_val);\n",
        "\n"
      ]
    },
    {
      "cell_type": "code",
      "execution_count": 15,
      "metadata": {
        "colab": {
          "base_uri": "https://localhost:8080/",
          "height": 457
        },
        "id": "lbYsWLwd8_uJ",
        "outputId": "d82b8a8b-2403-4522-f346-b7e697af8f25"
      },
      "outputs": [
        {
          "name": "stdout",
          "output_type": "stream",
          "text": [
            "Training Accuracy (RF): 0.8105906313645621\n",
            "Validation Accuracy (RF): 0.8048780487804879\n",
            "              precision    recall  f1-score   support\n",
            "\n",
            "           0       0.94      0.41      0.57        39\n",
            "           1       0.78      0.99      0.87        84\n",
            "\n",
            "    accuracy                           0.80       123\n",
            "   macro avg       0.86      0.70      0.72       123\n",
            "weighted avg       0.83      0.80      0.78       123\n",
            "\n"
          ]
        },
        {
          "data": {
            "image/png": "[encoded data removed]",
            "text/plain": [
              "<Figure size 432x288 with 2 Axes>"
            ]
          },
          "metadata": {
            "needs_background": "light"
          },
          "output_type": "display_data"
        }
      ],
      "source": [
        "# Model 4: XG BOOST\n",
        "model_xg = make_pipeline(\n",
        "    XGBClassifier(random_state=42, n_estimators=15,n_jobs=-1,max_depth=2,),)                     \n",
        "\n",
        "\n",
        "model_xg.fit(X_train,y_train);\n",
        "\n",
        "\n",
        "# Print Accuracy Scores for Train and Val\n",
        "print('Training Accuracy (RF):', model_xg.score(X_train, y_train))\n",
        "print('Validation Accuracy (RF):', model_xg.score(X_val, y_val))\n",
        "\n",
        "# Print Class report and Plot confusion Matrix\n",
        "print(classification_report(y_val, model_xg.predict(X_val)))\n",
        "plot_confusion_matrix(model_xg, X_val, y_val);"
      ]
    },
    {
      "cell_type": "code",
      "execution_count": 16,
      "metadata": {
        "colab": {
          "base_uri": "https://localhost:8080/",
          "height": 457
        },
        "id": "BfPYTShB9E0v",
        "outputId": "6c21d0ec-f0d2-4e7b-f7b4-5402c8458195"
      },
      "outputs": [
        {
          "name": "stdout",
          "output_type": "stream",
          "text": [
            "Training Accuracy (RF): 0.8513238289205702\n",
            "Validation Accuracy (RF): 0.7967479674796748\n",
            "              precision    recall  f1-score   support\n",
            "\n",
            "           0       0.89      0.41      0.56        39\n",
            "           1       0.78      0.98      0.87        84\n",
            "\n",
            "    accuracy                           0.80       123\n",
            "   macro avg       0.83      0.69      0.71       123\n",
            "weighted avg       0.82      0.80      0.77       123\n",
            "\n"
          ]
        },
        {
          "data": {
            "image/png": "[encoded data removed]",
            "text/plain": [
              "<Figure size 432x288 with 2 Axes>"
            ]
          },
          "metadata": {
            "needs_background": "light"
          },
          "output_type": "display_data"
        }
      ],
      "source": [
        "# Model 5: Gradiant Boost\n",
        "model_gb = make_pipeline(\n",
        "    GradientBoostingClassifier(random_state=42, n_estimators=75, learning_rate=0.1),                     \n",
        "\n",
        "\n",
        ")\n",
        "model_gb.fit(X_train,y_train);\n",
        "\n",
        "\n",
        "# Print Accuracy Scores for Train and Val\n",
        "print('Training Accuracy (RF):', model_gb.score(X_train, y_train))\n",
        "print('Validation Accuracy (RF):', model_gb.score(X_val, y_val))\n",
        "\n",
        "# Print Class report and Plot confusion Matrix\n",
        "print(classification_report(y_val, model_gb.predict(X_val)))\n",
        "plot_confusion_matrix(model_gb, X_val, y_val);"
      ]
    },
    {
      "cell_type": "markdown",
      "metadata": {
        "id": "QV-CK9Qe9mbV"
      },
      "source": [
        "# Hyper Tuning Two of the Models"
      ]
    },
    {
      "cell_type": "code",
      "execution_count": 17,
      "metadata": {
        "id": "Mq-fPBVi9k12"
      },
      "outputs": [],
      "source": [
        "# DECICION TREE HYPERPARAMETER TUNING\n",
        "max_iters = range(100,200,10)\n",
        "\n",
        "train_acc = []\n",
        "val_acc = []\n",
        "\n",
        "for iters in max_iters:\n",
        "  tree_model = make_pipeline(\n",
        "      OrdinalEncoder(),\n",
        "      SimpleImputer(strategy='mean'),\n",
        "      LogisticRegression(max_iter=iters, random_state=42)\n",
        "  )\n",
        "\n",
        "  tree_model.fit(X_train, y_train)\n",
        "\n",
        "  train_acc.append(tree_model.score(X_train, y_train))\n",
        "  val_acc.append(tree_model.score(X_val, y_val))"
      ]
    },
    {
      "cell_type": "code",
      "execution_count": 18,
      "metadata": {
        "colab": {
          "base_uri": "https://localhost:8080/",
          "height": 280
        },
        "id": "q0aqSNby-1Zk",
        "outputId": "1aaa579e-22d3-4115-d683-9f1967c6c48d"
      },
      "outputs": [
        {
          "data": {
            "image/png": "[encoded data removed]",
            "text/plain": [
              "<Figure size 432x288 with 1 Axes>"
            ]
          },
          "metadata": {
            "needs_background": "light"
          },
          "output_type": "display_data"
        }
      ],
      "source": [
        "plt.plot(max_iters, train_acc, color='blue', label='training')\n",
        "plt.plot(max_iters, val_acc, color='orange', label='validation')\n",
        "\n",
        "plt.xlabel('max_iters')\n",
        "plt.ylabel('accuracy')\n",
        "plt.legend();"
      ]
    },
    {
      "cell_type": "code",
      "execution_count": 19,
      "metadata": {
        "colab": {
          "base_uri": "https://localhost:8080/"
        },
        "id": "02WW2g-ybLET",
        "outputId": "cc7ad7fb-2e02-4a55-c720-1e855df738a5"
      },
      "outputs": [
        {
          "name": "stdout",
          "output_type": "stream",
          "text": [
            "Fitting 5 folds for each of 10 candidates, totalling 50 fits\n"
          ]
        },
        {
          "data": {
            "text/plain": [
              "RandomizedSearchCV(cv=5,\n",
              "                   estimator=Pipeline(steps=[('ordinalencoder',\n",
              "                                              OrdinalEncoder()),\n",
              "                                             ('simpleimputer', SimpleImputer()),\n",
              "                                             ('randomforestclassifier',\n",
              "                                              RandomForestClassifier(n_estimators=25,\n",
              "                                                                     random_state=42))]),\n",
              "                   n_jobs=-1,\n",
              "                   param_distributions={'randomforestclassifier__max_depth': range(5, 40, 5),\n",
              "                                        'randomforestclassifier__max_features': range(1, 10),\n",
              "                                        'randomforestclassifier__max_leaf_nodes': range(1, 125),\n",
              "                                        'randomforestclassifier__min_samples_leaf': range(5, 125, 5),\n",
              "                                        'randomforestclassifier__n_estimators': range(25, 125, 25),\n",
              "                                        'simpleimputer__strategy': ['mean',\n",
              "                                                                    'median']},\n",
              "                   verbose=1)"
            ]
          },
          "execution_count": 19,
          "metadata": {},
          "output_type": "execute_result"
        }
      ],
      "source": [
        "\n",
        "# Parameter Tuning for Random Forest\n",
        "clf = make_pipeline(\n",
        "    OrdinalEncoder(),\n",
        "    SimpleImputer(),\n",
        "    RandomForestClassifier(n_estimators=25, random_state=42)\n",
        ")\n",
        "\n",
        "param_grid = {\n",
        "    'simpleimputer__strategy': ['mean', 'median'],\n",
        "    'randomforestclassifier__max_depth': range(5,40,5),\n",
        "    'randomforestclassifier__n_estimators': range(25, 125, 25),\n",
        "    'randomforestclassifier__max_leaf_nodes': range(1, 125, 1),\n",
        "    'randomforestclassifier__min_samples_leaf': range(5, 125, 5),\n",
        "    'randomforestclassifier__max_features': range(1, 10, 1)\n",
        "}\n",
        "\n",
        "model_rfrs = RandomizedSearchCV(\n",
        "    clf, \n",
        "    param_distributions=param_grid,\n",
        "    n_iter=10,\n",
        "    cv=5,\n",
        "    n_jobs=-1,\n",
        "    verbose=1\n",
        ")\n",
        "\n",
        "model_rfrs.fit(X_train, y_train)\n",
        "\n",
        "\n"
      ]
    },
    {
      "cell_type": "code",
      "execution_count": 20,
      "metadata": {
        "colab": {
          "base_uri": "https://localhost:8080/"
        },
        "id": "kZLUIYjQbnmL",
        "outputId": "064f6b6f-449d-4cb1-e0fc-88a97326f56a"
      },
      "outputs": [
        {
          "data": {
            "text/plain": [
              "{'randomforestclassifier__max_depth': 30,\n",
              " 'randomforestclassifier__max_features': 7,\n",
              " 'randomforestclassifier__max_leaf_nodes': 95,\n",
              " 'randomforestclassifier__min_samples_leaf': 15,\n",
              " 'randomforestclassifier__n_estimators': 100,\n",
              " 'simpleimputer__strategy': 'mean'}"
            ]
          },
          "execution_count": 20,
          "metadata": {},
          "output_type": "execute_result"
        }
      ],
      "source": [
        "model_rfrs.best_params_"
      ]
    },
    {
      "cell_type": "code",
      "execution_count": 21,
      "metadata": {
        "colab": {
          "base_uri": "https://localhost:8080/"
        },
        "id": "3-HWjKvscCm9",
        "outputId": "d6a8cfd7-3395-4e41-bb85-80c2dbfefc31"
      },
      "outputs": [
        {
          "data": {
            "text/plain": [
              "0.8106575963718822"
            ]
          },
          "execution_count": 21,
          "metadata": {},
          "output_type": "execute_result"
        }
      ],
      "source": [
        "model_rfrs.best_score_"
      ]
    },
    {
      "cell_type": "code",
      "execution_count": 22,
      "metadata": {
        "id": "KUxWOz1hinP0"
      },
      "outputs": [],
      "source": [
        "y_pred = model_rf.predict(X_test)"
      ]
    },
    {
      "cell_type": "code",
      "execution_count": 23,
      "metadata": {
        "colab": {
          "base_uri": "https://localhost:8080/"
        },
        "id": "A70mAlqWlFlT",
        "outputId": "451563ab-ef7e-41b7-fb1d-6b80f339cb45"
      },
      "outputs": [
        {
          "data": {
            "text/plain": [
              "array([1, 1, 1, 1, 1, 1, 1, 0, 1, 1, 1, 1, 1, 0, 1, 1, 1, 1, 1, 1, 1, 1,\n",
              "       1, 1, 1, 0, 1, 1, 1, 1, 1, 1, 1, 1, 1, 0, 1, 1, 1, 1, 1, 1, 1, 1,\n",
              "       1, 1, 1, 1, 1, 1, 1, 1, 1, 1, 1, 0, 1, 1, 0, 1, 1, 1, 1, 0, 1, 1,\n",
              "       0, 0, 1, 0, 1, 1, 1, 1, 1, 1, 1, 1, 1, 1, 0, 1, 0, 1, 0, 1, 1, 1,\n",
              "       1, 1, 1, 1, 1, 1, 0, 1, 1, 1, 1, 1, 1, 0, 1, 1, 1, 1, 0, 1, 1, 1,\n",
              "       1, 1, 1, 1, 1, 1, 1, 0, 0, 0, 1, 1, 1, 0, 0, 1, 0, 1, 1, 1, 1, 1,\n",
              "       1, 1, 1, 1, 1, 1, 1, 1, 0, 1, 0, 1, 1, 1, 1, 0, 1, 1, 1, 1, 1, 0,\n",
              "       1, 1, 1, 1, 1, 1, 1, 0, 1, 1, 1, 0, 0, 1, 0, 1, 1, 1, 1, 0, 0, 1,\n",
              "       1, 1, 1, 1, 1, 1, 1, 1, 1, 1, 1, 1, 1, 1, 1, 1, 0, 0, 1, 1, 0, 1,\n",
              "       0, 1, 1, 1, 1, 1, 1, 1, 1, 1, 1, 1, 1, 0, 1, 1, 1, 1, 1, 1, 1, 1,\n",
              "       1, 1, 1, 1, 0, 1, 1, 1, 1, 0, 1, 1, 1, 1, 1, 0, 0, 1, 1, 1, 1, 0,\n",
              "       1, 0, 1, 0, 1, 1, 1, 1, 0, 1, 1, 1, 1, 0, 1, 1, 1, 1, 1, 1, 1, 1,\n",
              "       1, 1, 0, 1, 0, 1, 1, 1, 1, 0, 0, 1, 1, 1, 0, 1, 1, 1, 1, 1, 1, 1,\n",
              "       1, 1, 1, 1, 1, 1, 1, 0, 1, 1, 1, 1, 1, 1, 1, 0, 1, 1, 1, 1, 1, 1,\n",
              "       1, 1, 1, 0, 1, 1, 1, 1, 1, 0, 1, 1, 1, 1, 1, 1, 1, 0, 1, 1, 1, 1,\n",
              "       1, 1, 1, 1, 1, 1, 1, 1, 1, 0, 1, 1, 1, 1, 1, 1, 0, 1, 1, 1, 1, 1,\n",
              "       1, 1, 0, 1, 1, 1, 1, 1, 1, 1, 1, 1, 1, 1, 1])"
            ]
          },
          "execution_count": 23,
          "metadata": {},
          "output_type": "execute_result"
        }
      ],
      "source": [
        "\n",
        "y_pred"
      ]
    },
    {
      "cell_type": "markdown",
      "metadata": {
        "id": "8H4cHTd7_x1h"
      },
      "source": [
        "# Communicate Results\n",
        "\n",
        "## Partial Dependence Plots"
      ]
    },
    {
      "cell_type": "code",
      "execution_count": 24,
      "metadata": {
        "colab": {
          "base_uri": "https://localhost:8080/",
          "height": 642
        },
        "id": "SWDBnNSPBypF",
        "outputId": "2ccdc18c-b40e-42a3-bf07-81b2207da735"
      },
      "outputs": [
        {
          "name": "stderr",
          "output_type": "stream",
          "text": [
            "findfont: Font family ['Arial'] not found. Falling back to DejaVu Sans.\n",
            "findfont: Font family ['Arial'] not found. Falling back to DejaVu Sans.\n",
            "findfont: Font family ['Arial'] not found. Falling back to DejaVu Sans.\n",
            "findfont: Font family ['Arial'] not found. Falling back to DejaVu Sans.\n"
          ]
        },
        {
          "data": {
            "image/png": "[encoded data removed]",
            "text/plain": [
              "<Figure size 1080x684 with 2 Axes>"
            ]
          },
          "metadata": {
            "needs_background": "light"
          },
          "output_type": "display_data"
        }
      ],
      "source": [
        "\n",
        "\n",
        "feature = 'ApplicantIncome'\n",
        "\n",
        "isolate = pdp_isolate(\n",
        "    model_rf,\n",
        "    dataset= X_val, # USE YOUR VALIDATION DATA\n",
        "    model_features=X_val.columns,\n",
        "    feature=feature\n",
        ")\n",
        "\n",
        "pdp_plot(isolate, feature_name = feature);"
      ]
    },
    {
      "cell_type": "code",
      "execution_count": 25,
      "metadata": {
        "colab": {
          "base_uri": "https://localhost:8080/"
        },
        "id": "mYT-tQc0R71u",
        "outputId": "de2e7694-0946-4303-e46b-afc689848fc2"
      },
      "outputs": [
        {
          "name": "stdout",
          "output_type": "stream",
          "text": [
            "/usr/local/lib/python3.7/dist-packages/pandas/__init__.py\n"
          ]
        }
      ],
      "source": [
        "print(pd.__file__)"
      ]
    },
    {
      "cell_type": "markdown",
      "metadata": {
        "id": "STc3HXbhSYkt"
      },
      "source": [
        "# Downloading Pipeline and Information for PIPENV SHELL"
      ]
    },
    {
      "cell_type": "code",
      "execution_count": 26,
      "metadata": {
        "colab": {
          "base_uri": "https://localhost:8080/"
        },
        "id": "x53RsdBZAC-b",
        "outputId": "11f4d67e-4aff-4559-c18a-49970e4bed68"
      },
      "outputs": [
        {
          "data": {
            "text/plain": [
              "['pipeline.joblib']"
            ]
          },
          "execution_count": 26,
          "metadata": {},
          "output_type": "execute_result"
        }
      ],
      "source": [
        "# Creating File\n",
        "from joblib import dump\n",
        "dump(model_dt, 'pipeline.joblib',compress=True)"
      ]
    },
    {
      "cell_type": "code",
      "execution_count": 27,
      "metadata": {
        "colab": {
          "base_uri": "https://localhost:8080/",
          "height": 17
        },
        "id": "yeWcQ8VW-8Dr",
        "outputId": "fb02df9e-9edd-4a6b-db1f-081326e81794"
      },
      "outputs": [
        {
          "data": {
            "application/javascript": "\n    async function download(id, filename, size) {\n      if (!google.colab.kernel.accessAllowed) {\n        return;\n      }\n      const div = document.createElement('div');\n      const label = document.createElement('label');\n      label.textContent = `Downloading \"${filename}\": `;\n      div.appendChild(label);\n      const progress = document.createElement('progress');\n      progress.max = size;\n      div.appendChild(progress);\n      document.body.appendChild(div);\n\n      const buffers = [];\n      let downloaded = 0;\n\n      const channel = await google.colab.kernel.comms.open(id);\n      // Send a message to notify the kernel that we're ready.\n      channel.send({})\n\n      for await (const message of channel.messages) {\n        // Send a message to notify the kernel that we're ready.\n        channel.send({})\n        if (message.buffers) {\n          for (const buffer of message.buffers) {\n            buffers.push(buffer);\n            downloaded += buffer.byteLength;\n            progress.value = downloaded;\n          }\n        }\n      }\n      const blob = new Blob(buffers, {type: 'application/binary'});\n      const a = document.createElement('a');\n      a.href = window.URL.createObjectURL(blob);\n      a.download = filename;\n      div.appendChild(a);\n      a.click();\n      div.remove();\n    }\n  ",
            "text/plain": [
              "<IPython.core.display.Javascript object>"
            ]
          },
          "metadata": {},
          "output_type": "display_data"
        },
        {
          "data": {
            "application/javascript": "download(\"download_c4fc0673-96b3-47c4-b0e1-6c093e037668\", \"pipeline.joblib\", 1468)",
            "text/plain": [
              "<IPython.core.display.Javascript object>"
            ]
          },
          "metadata": {},
          "output_type": "display_data"
        }
      ],
      "source": [
        "# Download File\n",
        "from google.colab import files\n",
        "files.download('pipeline.joblib')"
      ]
    },
    {
      "cell_type": "code",
      "execution_count": 28,
      "metadata": {
        "colab": {
          "base_uri": "https://localhost:8080/"
        },
        "id": "qoorBnW-_R3o",
        "outputId": "7c9b5c66-65bf-4de8-c147-97113defad1c"
      },
      "outputs": [
        {
          "name": "stdout",
          "output_type": "stream",
          "text": [
            "joblib==1.1.0\n",
            "scikit-learn==1.0.1\n",
            "category_encoders==2.3.0\n"
          ]
        }
      ],
      "source": [
        "# getting Versions\n",
        "import joblib\n",
        "import sklearn\n",
        "import category_encoders\n",
        "\n",
        "print(f'joblib=={joblib.__version__}')\n",
        "print(f'scikit-learn=={sklearn.__version__}')\n",
        "print(f'category_encoders=={category_encoders.__version__}')"
      ]
    },
    {
      "cell_type": "code",
      "execution_count": 29,
      "metadata": {
        "id": "sk_Av7EqAD96"
      },
      "outputs": [],
      "source": [
        "def predict(Gender, Married, Dependents, Education, Self_Employed, ApplicantIncome, CoapplicantIncome,Credit_History):\n",
        "    df = pd.DataFrame(\n",
        "        columns=['Gender', 'Married', 'Dependents', 'Education', 'Self_Employed', 'ApplicantIncome', 'CoapplicantIncome','Credit_History'],\n",
        "        data=[[Gender, Married, Dependents, Education, Self_Employed, ApplicantIncome, CoapplicantIncome,Credit_History]]\n",
        "    )\n",
        "    y_pred = model_rf.predict(df)[0]\n",
        "    return f'{y_pred}'"
      ]
    },
    {
      "cell_type": "code",
      "execution_count": null,
      "metadata": {
        "id": "zsjlqd4LKjup"
      },
      "outputs": [],
      "source": []
    },
    {
      "cell_type": "code",
      "execution_count": null,
      "metadata": {},
      "outputs": [],
      "source": []
    },
    {
      "cell_type": "code",
      "execution_count": null,
      "metadata": {
        "id": "iCGWD91jPDxn"
      },
      "outputs": [],
      "source": []
    }
  ],
  "metadata": {
    "colab": {
      "collapsed_sections": [],
      "name": "Loan Predictions Project",
      "provenance": []
    },
    "kernelspec": {
      "display_name": "Python 3",
      "name": "python3"
    },
    "language_info": {
      "name": "python"
    }
  },
  "nbformat": 4,
  "nbformat_minor": 0
}
